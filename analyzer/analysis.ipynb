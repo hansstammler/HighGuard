{
 "cells": [
  {
   "cell_type": "code",
   "execution_count": 1,
   "metadata": {},
   "outputs": [],
   "source": [
    "import os\n",
    "import json\n"
   ]
  },
  {
   "cell_type": "code",
   "execution_count": 2,
   "metadata": {},
   "outputs": [],
   "source": [
    "def collect_contract_occurrences(json_file_path, contract_name):\n",
    "    try:\n",
    "        with open(json_file_path, 'r') as file:\n",
    "            data = json.load(file)\n",
    "        \n",
    "        occurrences = []\n",
    "        index = 1\n",
    "        \n",
    "        for entry in data:\n",
    "            if entry['contract'].startswith(contract_name):\n",
    "                occurrences.append(f\"{contract_name}-{index}\")\n",
    "                index += 1\n",
    "        \n",
    "        return occurrences\n",
    "    \n",
    "    except FileNotFoundError:\n",
    "        return \"The JSON file does not exist.\"\n",
    "    except json.JSONDecodeError:\n",
    "        return \"Error decoding JSON file.\"\n",
    "    except Exception as e:\n",
    "        return f\"An error occurred: {e}\""
   ]
  },
  {
   "cell_type": "code",
   "execution_count": 3,
   "metadata": {},
   "outputs": [],
   "source": [
    "def list_files_in_directory(directory_path):\n",
    "    try:\n",
    "        # List all files in the directory\n",
    "        files = os.listdir(directory_path)\n",
    "        \n",
    "        # Filter out directories, keep only files\n",
    "        files = [f for f in files if os.path.isfile(os.path.join(directory_path, f))]\n",
    "        \n",
    "        return files\n",
    "    except FileNotFoundError:\n",
    "        return \"The directory does not exist.\"\n",
    "    except PermissionError:\n",
    "        return \"You do not have permission to access this directory.\"\n",
    "    except Exception as e:\n",
    "        return f\"An error occurred: {e}\""
   ]
  },
  {
   "cell_type": "code",
   "execution_count": 9,
   "metadata": {},
   "outputs": [
    {
     "data": {
      "text/plain": [
       "['MultiStageAuction-4.md',\n",
       " 'MultiStageAuction-5.md',\n",
       " 'MultiStageAuction-1.md',\n",
       " 'MultiStageAuction-21.md',\n",
       " 'MultiStageAuction-11.md',\n",
       " 'MultiStageAuction-25.md',\n",
       " 'MultiStageAuction-10.md',\n",
       " 'MultiStageAuction-24.md',\n",
       " 'MultiStageAuction-20.md',\n",
       " 'MultiStageAuction-13.md',\n",
       " 'MultiStageAuction-23.md',\n",
       " 'MultiStageAuction-17.md',\n",
       " 'MultiStageAuction-8.md',\n",
       " 'MultiStageAuction-16.md',\n",
       " 'MultiStageAuction-9.md',\n",
       " 'MultiStageAuction-19.md',\n",
       " 'MultiStageAuction-6.md',\n",
       " 'MultiStageAuction-2.md',\n",
       " 'MultiStageAuction-3.md',\n",
       " 'MultiStageAuction-18.md',\n",
       " 'MultiStageAuction-7.md']"
      ]
     },
     "execution_count": 9,
     "metadata": {},
     "output_type": "execute_result"
    }
   ],
   "source": [
    "directory_path = '../results/auction'\n",
    "files = list_files_in_directory(directory_path)"
   ]
  },
  {
   "cell_type": "code",
   "execution_count": 14,
   "metadata": {},
   "outputs": [
    {
     "name": "stdout",
     "output_type": "stream",
     "text": [
      "24\n",
      "1\n"
     ]
    }
   ],
   "source": [
    "failed_file_path = '../results/json/failed_exploits.json'\n",
    "unresolved_file_path = '../results/json/unresolved_exploits.json'\n",
    "contract_name = 'PrizeDistribution'\n",
    "\n",
    "failed_occurrences = collect_contract_occurrences(failed_file_path, contract_name)\n",
    "unresolved_occurrences = collect_contract_occurrences(unresolved_file_path, contract_name)\n",
    "\n",
    "print(failed_occurrences.__len__())\n",
    "print(unresolved_occurrences.__len__())"
   ]
  },
  {
   "cell_type": "code",
   "execution_count": null,
   "metadata": {},
   "outputs": [],
   "source": []
  }
 ],
 "metadata": {
  "kernelspec": {
   "display_name": "base",
   "language": "python",
   "name": "python3"
  },
  "language_info": {
   "codemirror_mode": {
    "name": "ipython",
    "version": 3
   },
   "file_extension": ".py",
   "mimetype": "text/x-python",
   "name": "python",
   "nbconvert_exporter": "python",
   "pygments_lexer": "ipython3",
   "version": "3.8.17"
  }
 },
 "nbformat": 4,
 "nbformat_minor": 2
}
